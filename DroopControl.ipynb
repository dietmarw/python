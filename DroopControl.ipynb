{
 "cells": [
  {
   "cell_type": "code",
   "execution_count": null,
   "metadata": {},
   "outputs": [],
   "source": [
    "%pylab inline --no-import-all\n",
    "from ipywidgets import interact, interactive, fixed, interact_manual\n",
    "import ipywidgets as widgets"
   ]
  },
  {
   "cell_type": "code",
   "execution_count": null,
   "metadata": {},
   "outputs": [],
   "source": [
    "def f(m, b):\n",
    "    plt.figure(1)\n",
    "    x = np.linspace(-10, 10, num=1000)\n",
    "    plt.plot(x, m * x + b)\n",
    "   #plt.ylim(-5, 5)\n",
    "    #plt.show()\n",
    "\n",
    "interactive_plot = interact_manual(f, m=(-2.0, 2.0), b=(-3, 3, 0.5))\n",
    "#output = interactive_plot.children[-1]\n",
    "#output.layout.height = '350px'\n",
    "interactive_plot"
   ]
  },
  {
   "cell_type": "markdown",
   "metadata": {},
   "source": [
    "Droop is defined as:\n",
    "\n",
    "$$ R = - \\frac{\\Delta f/f_n}{\\Delta P/P_n} $$\n"
   ]
  },
  {
   "cell_type": "code",
   "execution_count": null,
   "metadata": {
    "slideshow": {
     "slide_type": "slide"
    }
   },
   "outputs": [],
   "source": [
    "# set up the plot window\n",
    "R1 = 0.05\n",
    "R2 = 0.1\n",
    "P1n = 50\n",
    "P2n = 50\n",
    "fmin = 47\n",
    "fmax = 53\n",
    "fn = 50\n",
    "# f1 = - R * dP/Pn * fn + fn\n",
    "# dP = - (df/fn) * Pn/R = P1-P1s \n",
    "\n",
    "P= np.array([0,150])\n",
    "\n",
    "@interact(P1s=(1,P1n), P2s=(1,P2n), P1n=(1,150), P2n=(1,150), \n",
    "          R1=(0.01,0.2,0.01), R2=(0.01,0.2,0.01),\n",
    "          f=(fmin,fmax,0.5))\n",
    "def plot_window(P1s, P2s, P1n, P2n, R1, R2, f):\n",
    "    f1 = (1 - R1 * (P-P1s)/P1n) * fn\n",
    "    P1 = P1s - (f-fn)/fn * P1n/R1\n",
    "    f2 = (1 - R2 * (P-P2s)/P2n) * fn\n",
    "    P2 = P2s - (f-fn)/fn * P2n/R2\n",
    "    print(P2)\n",
    "    # plot graph\n",
    "    fig, (ax1,ax2) = plt.subplots(1,2, gridspec_kw={'wspace':0}, sharey=True)\n",
    "    # LHS\n",
    "    ax1.set_xlim(150,0)\n",
    "    ax1.set_xlabel('$P_1$ [MW]')\n",
    "    ax1.set_ylabel('System frequency [$Hz$]')\n",
    "    ax1.plot([0,150],[f,f], 'g--') # plot the frequency line\n",
    "    ax1.plot([P1n,P1n],[0,60], 'y:')\n",
    "    ax1.plot([P1s,P1s],[fmin,fmax], 'k:')\n",
    "    ax1.plot([P1,P1],[fmin,f], '--r^')\n",
    "    ax1.plot(np.flip(P),np.flip(f1),'r')\n",
    "    # RHS\n",
    "    ax2.set_xlim(0,150)\n",
    "    ax2.set_xlabel('$P_2$ [MW]')\n",
    "#    plt.ylim(49.8,50.2)\n",
    "    ax2.plot([0,150],[f,f], 'g--')\n",
    "    ax2.plot([P2n,P2n],[fmin,fmax], 'y:')\n",
    "    ax2.plot([P2s,P2s],[fmin,fmax], 'k:')\n",
    "    ax2.plot([P2,P2],[fmin,f], '--b^')\n",
    "    ax2.plot(P,f2, 'b')\n",
    "    plt.ylim(fmin,fmax)\n",
    "    plt.show()\n",
    "    print(P)\n"
   ]
  },
  {
   "cell_type": "code",
   "execution_count": null,
   "metadata": {},
   "outputs": [],
   "source": [
    "from ipywidgets import IntSlider\n",
    "from ipywidgets.embed import embed_minimal_html\n",
    "\n",
    "slider = IntSlider(value=40)\n",
    "embed_minimal_html('export.html', views=[slider], title='Widgets export')"
   ]
  }
 ],
 "metadata": {
  "celltoolbar": "Slideshow",
  "kernelspec": {
   "display_name": "Python 3",
   "language": "python",
   "name": "python3"
  },
  "language_info": {
   "codemirror_mode": {
    "name": "ipython",
    "version": 3
   },
   "file_extension": ".py",
   "mimetype": "text/x-python",
   "name": "python",
   "nbconvert_exporter": "python",
   "pygments_lexer": "ipython3",
   "version": "3.8.2"
  }
 },
 "nbformat": 4,
 "nbformat_minor": 4
}
